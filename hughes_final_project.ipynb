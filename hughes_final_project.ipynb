{
 "cells": [
  {
   "cell_type": "markdown",
   "id": "4fd335b3-c101-4469-9410-7e87c7e9ad0f",
   "metadata": {},
   "source": [
    "# Final Project \n",
    "\n",
    "This is my final project.  As with previous regression assignments with this dataset, "
   ]
  },
  {
   "cell_type": "code",
   "execution_count": 1,
   "id": "e6178de4-1f38-42e7-aeec-6b13e9606c4d",
   "metadata": {},
   "outputs": [],
   "source": [
    "import pandas as pd\n",
    "import numpy as np"
   ]
  },
  {
   "cell_type": "code",
   "execution_count": 2,
   "id": "85e4167c-8b81-4a22-afa1-e7a02fa3da6e",
   "metadata": {},
   "outputs": [
    {
     "data": {
      "text/plain": [
       "(65437, 113)"
      ]
     },
     "execution_count": 2,
     "metadata": {},
     "output_type": "execute_result"
    }
   ],
   "source": [
    "# https://pandas.pydata.org/pandas-docs/stable/reference/api/pandas.read_csv.html\n",
    "# Various parts of the pandas api reference have been used, will not be citing every specific page.\n",
    "raw_data = pd.read_csv('survey_results_public.csv', index_col=\"ResponseId\")\n",
    "raw_data.shape"
   ]
  },
  {
   "cell_type": "markdown",
   "id": "14cf36f6-d912-4c50-8216-0d6305ad6802",
   "metadata": {},
   "source": [
    "# Analysis of developers who didn't learn to code in college"
   ]
  },
  {
   "cell_type": "code",
   "execution_count": 3,
   "id": "5eec70cc-b58a-4a0c-bedd-5be4bd2cf91e",
   "metadata": {},
   "outputs": [
    {
     "data": {
      "text/html": [
       "<div>\n",
       "<style scoped>\n",
       "    .dataframe tbody tr th:only-of-type {\n",
       "        vertical-align: middle;\n",
       "    }\n",
       "\n",
       "    .dataframe tbody tr th {\n",
       "        vertical-align: top;\n",
       "    }\n",
       "\n",
       "    .dataframe thead th {\n",
       "        text-align: right;\n",
       "    }\n",
       "</style>\n",
       "<table border=\"1\" class=\"dataframe\">\n",
       "  <thead>\n",
       "    <tr style=\"text-align: right;\">\n",
       "      <th></th>\n",
       "      <th>LearnCode</th>\n",
       "      <th>Successful</th>\n",
       "    </tr>\n",
       "  </thead>\n",
       "  <tbody>\n",
       "    <tr>\n",
       "      <th>count</th>\n",
       "      <td>2631</td>\n",
       "      <td>2631</td>\n",
       "    </tr>\n",
       "    <tr>\n",
       "      <th>unique</th>\n",
       "      <td>2</td>\n",
       "      <td>2</td>\n",
       "    </tr>\n",
       "    <tr>\n",
       "      <th>top</th>\n",
       "      <td>True</td>\n",
       "      <td>True</td>\n",
       "    </tr>\n",
       "    <tr>\n",
       "      <th>freq</th>\n",
       "      <td>1425</td>\n",
       "      <td>2118</td>\n",
       "    </tr>\n",
       "  </tbody>\n",
       "</table>\n",
       "</div>"
      ],
      "text/plain": [
       "       LearnCode Successful\n",
       "count       2631       2631\n",
       "unique         2          2\n",
       "top         True       True\n",
       "freq        1425       2118"
      ]
     },
     "execution_count": 3,
     "metadata": {},
     "output_type": "execute_result"
    }
   ],
   "source": [
    "# Only using columns that I find relevant for the question I want to ask\n",
    "data = raw_data.filter(items=[\n",
    "    \"MainBranch\",\n",
    "    \"Employment\",\n",
    "    \"EdLevel\",\n",
    "    \"LearnCode\",\n",
    "    \"Country\",\n",
    "    \"ConvertedCompYearly\",\n",
    "    \"JobSat\"\n",
    "])\n",
    "\n",
    "# Filtering results for full time, employed developers in the US\n",
    "data[\"Country\"] = data[\"Country\"] == \"United States of America\"\n",
    "data[\"MainBranch\"] = data[\"MainBranch\"] == \"I am a developer by profession\"\n",
    "data[\"Employment\"] = data[\"Employment\"] == \"Employed, full-time\"\n",
    "data[\"LearnCode\"] = data[\"LearnCode\"].str.contains(\"School\")\n",
    "\n",
    "# Removing NA values\n",
    "data.dropna(inplace=True, subset=[\n",
    "    \"MainBranch\",\n",
    "    \"Employment\",\n",
    "    \"EdLevel\",\n",
    "    \"LearnCode\",\n",
    "    \"Country\",\n",
    "    \"ConvertedCompYearly\",\n",
    "    \"JobSat\"\n",
    "])\n",
    "\n",
    "# Dollar amount is poverty line for a 4 person family\n",
    "data[\"Successful\"] = (data[\"JobSat\"] > 5) & (data[\"ConvertedCompYearly\"] > 32150)\n",
    "\n",
    "# https://stackoverflow.com/questions/17071871/how-do-i-select-rows-from-a-dataframe-based-on-column-values\n",
    "data = data.loc[data[\"Country\"] & data[\"MainBranch\"] & data[\"Employment\"]]\n",
    "data = data.filter(items=[\n",
    "#    \"EdLevel\",\n",
    "    \"LearnCode\",\n",
    "#    \"JobSat\"\n",
    "    \"Successful\"\n",
    "])\n",
    "\n",
    "data.dropna(inplace=True)\n",
    "\n",
    "data.describe()\n"
   ]
  },
  {
   "cell_type": "code",
   "execution_count": 4,
   "id": "74488ee9-f241-4a81-ab91-10dcbdb19e8f",
   "metadata": {},
   "outputs": [
    {
     "data": {
      "text/plain": [
       "LearnCode  Successful\n",
       "True       True          1165\n",
       "False      True           953\n",
       "True       False          260\n",
       "False      False          253\n",
       "Name: count, dtype: int64"
      ]
     },
     "execution_count": 4,
     "metadata": {},
     "output_type": "execute_result"
    }
   ],
   "source": [
    "data.value_counts()"
   ]
  },
  {
   "cell_type": "markdown",
   "id": "a71df70c-24d4-4a5a-999c-9448442dd6b5",
   "metadata": {},
   "source": [
    "This data shows that roughly 80% of software developers are considered \"successful\" by my very limited classification.  More importantly, however, this shows that the proportion is roughly the same, regardless of whether you learned to code in college.  \n",
    "\n",
    "This shows that college is not the only path to success. If it doesn't work for you, then you don't have to go to college to be a successful developer.  "
   ]
  },
  {
   "cell_type": "markdown",
   "id": "2723d823-2d05-46ac-b512-9a5e8002a560",
   "metadata": {},
   "source": [
    "# Analysis of Developers in different industries"
   ]
  },
  {
   "cell_type": "code",
   "execution_count": 5,
   "id": "40a82dab-96f9-455c-b415-803b28bdc570",
   "metadata": {},
   "outputs": [
    {
     "data": {
      "text/html": [
       "<div>\n",
       "<style scoped>\n",
       "    .dataframe tbody tr th:only-of-type {\n",
       "        vertical-align: middle;\n",
       "    }\n",
       "\n",
       "    .dataframe tbody tr th {\n",
       "        vertical-align: top;\n",
       "    }\n",
       "\n",
       "    .dataframe thead th {\n",
       "        text-align: right;\n",
       "    }\n",
       "</style>\n",
       "<table border=\"1\" class=\"dataframe\">\n",
       "  <thead>\n",
       "    <tr style=\"text-align: right;\">\n",
       "      <th></th>\n",
       "      <th>Successful</th>\n",
       "      <th>Industry_Banking/Financial Services</th>\n",
       "      <th>Industry_Computer Systems Design and Services</th>\n",
       "      <th>Industry_Energy</th>\n",
       "      <th>Industry_Fintech</th>\n",
       "      <th>Industry_Government</th>\n",
       "      <th>Industry_Healthcare</th>\n",
       "      <th>Industry_Higher Education</th>\n",
       "      <th>Industry_Insurance</th>\n",
       "      <th>Industry_Internet, Telecomm or Information Services</th>\n",
       "      <th>Industry_Manufacturing</th>\n",
       "      <th>Industry_Media &amp; Advertising Services</th>\n",
       "      <th>Industry_Other:</th>\n",
       "      <th>Industry_Retail and Consumer Services</th>\n",
       "      <th>Industry_Software Development</th>\n",
       "      <th>Industry_Transportation, or Supply Chain</th>\n",
       "    </tr>\n",
       "  </thead>\n",
       "  <tbody>\n",
       "    <tr>\n",
       "      <th>count</th>\n",
       "      <td>2618</td>\n",
       "      <td>2618</td>\n",
       "      <td>2618</td>\n",
       "      <td>2618</td>\n",
       "      <td>2618</td>\n",
       "      <td>2618</td>\n",
       "      <td>2618</td>\n",
       "      <td>2618</td>\n",
       "      <td>2618</td>\n",
       "      <td>2618</td>\n",
       "      <td>2618</td>\n",
       "      <td>2618</td>\n",
       "      <td>2618</td>\n",
       "      <td>2618</td>\n",
       "      <td>2618</td>\n",
       "      <td>2618</td>\n",
       "    </tr>\n",
       "    <tr>\n",
       "      <th>unique</th>\n",
       "      <td>2</td>\n",
       "      <td>2</td>\n",
       "      <td>2</td>\n",
       "      <td>2</td>\n",
       "      <td>2</td>\n",
       "      <td>2</td>\n",
       "      <td>2</td>\n",
       "      <td>2</td>\n",
       "      <td>2</td>\n",
       "      <td>2</td>\n",
       "      <td>2</td>\n",
       "      <td>2</td>\n",
       "      <td>2</td>\n",
       "      <td>2</td>\n",
       "      <td>2</td>\n",
       "      <td>2</td>\n",
       "    </tr>\n",
       "    <tr>\n",
       "      <th>top</th>\n",
       "      <td>True</td>\n",
       "      <td>False</td>\n",
       "      <td>False</td>\n",
       "      <td>False</td>\n",
       "      <td>False</td>\n",
       "      <td>False</td>\n",
       "      <td>False</td>\n",
       "      <td>False</td>\n",
       "      <td>False</td>\n",
       "      <td>False</td>\n",
       "      <td>False</td>\n",
       "      <td>False</td>\n",
       "      <td>False</td>\n",
       "      <td>False</td>\n",
       "      <td>False</td>\n",
       "      <td>False</td>\n",
       "    </tr>\n",
       "    <tr>\n",
       "      <th>freq</th>\n",
       "      <td>2107</td>\n",
       "      <td>2498</td>\n",
       "      <td>2539</td>\n",
       "      <td>2570</td>\n",
       "      <td>2473</td>\n",
       "      <td>2449</td>\n",
       "      <td>2420</td>\n",
       "      <td>2527</td>\n",
       "      <td>2558</td>\n",
       "      <td>2493</td>\n",
       "      <td>2479</td>\n",
       "      <td>2535</td>\n",
       "      <td>2259</td>\n",
       "      <td>2479</td>\n",
       "      <td>1851</td>\n",
       "      <td>2522</td>\n",
       "    </tr>\n",
       "  </tbody>\n",
       "</table>\n",
       "</div>"
      ],
      "text/plain": [
       "       Successful Industry_Banking/Financial Services  \\\n",
       "count        2618                                2618   \n",
       "unique          2                                   2   \n",
       "top          True                               False   \n",
       "freq         2107                                2498   \n",
       "\n",
       "       Industry_Computer Systems Design and Services Industry_Energy  \\\n",
       "count                                           2618            2618   \n",
       "unique                                             2               2   \n",
       "top                                            False           False   \n",
       "freq                                            2539            2570   \n",
       "\n",
       "       Industry_Fintech Industry_Government Industry_Healthcare  \\\n",
       "count              2618                2618                2618   \n",
       "unique                2                   2                   2   \n",
       "top               False               False               False   \n",
       "freq               2473                2449                2420   \n",
       "\n",
       "       Industry_Higher Education Industry_Insurance  \\\n",
       "count                       2618               2618   \n",
       "unique                         2                  2   \n",
       "top                        False              False   \n",
       "freq                        2527               2558   \n",
       "\n",
       "       Industry_Internet, Telecomm or Information Services  \\\n",
       "count                                                2618    \n",
       "unique                                                  2    \n",
       "top                                                 False    \n",
       "freq                                                 2493    \n",
       "\n",
       "       Industry_Manufacturing Industry_Media & Advertising Services  \\\n",
       "count                    2618                                  2618   \n",
       "unique                      2                                     2   \n",
       "top                     False                                 False   \n",
       "freq                     2479                                  2535   \n",
       "\n",
       "       Industry_Other: Industry_Retail and Consumer Services  \\\n",
       "count             2618                                  2618   \n",
       "unique               2                                     2   \n",
       "top              False                                 False   \n",
       "freq              2259                                  2479   \n",
       "\n",
       "       Industry_Software Development Industry_Transportation, or Supply Chain  \n",
       "count                           2618                                     2618  \n",
       "unique                             2                                        2  \n",
       "top                            False                                    False  \n",
       "freq                            1851                                     2522  "
      ]
     },
     "execution_count": 5,
     "metadata": {},
     "output_type": "execute_result"
    }
   ],
   "source": [
    "# Only using columns that I find relevant for the question I want to ask\n",
    "data = raw_data.filter(items=[\n",
    "    \"MainBranch\",\n",
    "    \"Employment\",\n",
    "    \"EdLevel\",\n",
    "    \"Country\",\n",
    "    \"Industry\",\n",
    "    \"ConvertedCompYearly\",\n",
    "    \"JobSat\"\n",
    "])\n",
    "\n",
    "# Filtering results for full time, employed developers in the US\n",
    "data[\"Country\"] = data[\"Country\"] == \"United States of America\"\n",
    "data[\"MainBranch\"] = data[\"MainBranch\"] == \"I am a developer by profession\"\n",
    "data[\"Employment\"] = data[\"Employment\"] == \"Employed, full-time\"\n",
    "\n",
    "# Removing NA values\n",
    "data.dropna(inplace=True, subset=[\n",
    "    \"MainBranch\",\n",
    "    \"Employment\",\n",
    "    \"EdLevel\",\n",
    "    \"Country\",\n",
    "    \"Industry\",\n",
    "    \"ConvertedCompYearly\",\n",
    "    \"JobSat\"\n",
    "])\n",
    "\n",
    "# Dollar amount is poverty line for a 4 person family\n",
    "data[\"Successful\"] = (data[\"JobSat\"] > 5) & (data[\"ConvertedCompYearly\"] > 32150)\n",
    "\n",
    "# https://stackoverflow.com/questions/17071871/how-do-i-select-rows-from-a-dataframe-based-on-column-values\n",
    "data = data.loc[data[\"Country\"] & data[\"MainBranch\"] & data[\"Employment\"]]\n",
    "\n",
    "data = data.filter(items=[\n",
    "    \"Industry\",\n",
    "    \"Successful\"\n",
    "])\n",
    "\n",
    "# https://stackoverflow.com/questions/32387266/converting-categorical-values-to-binary-using-pandas\n",
    "data = pd.get_dummies(data)\n",
    "\n",
    "data.dropna(inplace=True)\n",
    "\n",
    "data.describe()\n"
   ]
  },
  {
   "cell_type": "code",
   "execution_count": 6,
   "id": "55d880b6-78a7-4c3d-946e-ba07c23c7a5a",
   "metadata": {},
   "outputs": [],
   "source": [
    "import statsmodels.api as sm\n",
    "\n",
    "# https://stackoverflow.com/questions/29763620/how-to-select-all-columns-except-one-in-pandas\n",
    "x = data.loc[:, data.columns != 'Successful'].to_numpy()\n",
    "y = data[\"Successful\"].to_numpy()\n",
    "\n",
    "sample_count, feature_count = x.shape\n",
    "\n",
    "weights = np.zeros(feature_count)\n",
    "bias = 1\n",
    "lr = 0.001\n",
    "epochs = 1000\n",
    "\n",
    "for _ in range(epochs):\n",
    "    y_pred = np.dot(x, weights) + bias\n",
    "\n",
    "    dw = (1 / sample_count) * np.dot(x.T, (y_pred - y))\n",
    "    db = (1 / sample_count) * np.sum(y_pred - y)\n",
    "\n",
    "    weights -= lr * dw\n",
    "    bias -= lr * db\n",
    "\n",
    "\n",
    "\n"
   ]
  },
  {
   "cell_type": "code",
   "execution_count": 7,
   "id": "320115a6-742a-4412-9a4e-010f0ea94e24",
   "metadata": {},
   "outputs": [
    {
     "name": "stdout",
     "output_type": "stream",
     "text": [
      "Y = 0.88 - 0.01*X1 - 0.00*X2 - 0.00*X3 - 0.01*X4 - 0.01*X5 - 0.01*X6 - 0.00*X7 - 0.00*X8 - 0.01*X9 - 0.01*X10 - 0.00*X11 - 0.02*X12 - 0.01*X13 - 0.03*X14 - 0.01*X15\n"
     ]
    }
   ],
   "source": [
    "def print_linreg_equation(intercept: float, weights: list[float]):\n",
    "    print(f\"Y = {intercept:.2f}\", end='')\n",
    "    for i, w in enumerate(weights):\n",
    "        print(f\" {'+' if w > 0 else '-'} {w if w > 0 else -w:.2f}*X{i + 1}\", end='')\n",
    "    print()\n",
    "\n",
    "print_linreg_equation(bias, weights)"
   ]
  },
  {
   "cell_type": "code",
   "execution_count": 8,
   "id": "22b7c2e3-957b-446c-b3b1-dc84fab7b35b",
   "metadata": {},
   "outputs": [
    {
     "name": "stdout",
     "output_type": "stream",
     "text": [
      "RSE: 0.4019525560430364\n",
      "R^2: -0.02771225554692136\n"
     ]
    }
   ],
   "source": [
    "\n",
    "def model_eval(pred, y):\n",
    "    rss = np.sum((pred - y)**2)\n",
    "    rse = (rss/(len(y) - 2))**(1/2)\n",
    "    tss = np.sum((y - np.mean(y))**2)\n",
    "    r2 = 1 - rss/tss\n",
    "    return rss, rse, tss, r2\n",
    "\n",
    "_, rse, _, r2 = model_eval(y_pred, y)\n",
    "print(\"RSE:\", rse)\n",
    "print(\"R^2:\", r2)"
   ]
  },
  {
   "cell_type": "markdown",
   "id": "865be11c-82fa-4901-961f-aca80f72a2aa",
   "metadata": {},
   "source": [
    "Looking at the R-squared value here, we can obviously see that the industry you choose to work in has effectively no correlation with your level of success in life.  So restricting yourself to specific industries becuase they are more prestigious or because you think you will be more successful there is, in reality, only restricting your possible job opportunities.  \n",
    "\n",
    "(I know that a linear model is not ideal for this kind of data, but I just wanted to establish a lack of relation between the inputs and outputs.  I don't need to make any predictions or do anything complicated with this model.)"
   ]
  },
  {
   "cell_type": "markdown",
   "id": "1b73c698-dbe8-4cb8-b957-aaa86d208232",
   "metadata": {},
   "source": [
    "# Analysis of developers in management"
   ]
  },
  {
   "cell_type": "code",
   "execution_count": 9,
   "id": "9f6b4850-c21e-4f63-972d-680b9ad12e69",
   "metadata": {},
   "outputs": [
    {
     "data": {
      "text/html": [
       "<div>\n",
       "<style scoped>\n",
       "    .dataframe tbody tr th:only-of-type {\n",
       "        vertical-align: middle;\n",
       "    }\n",
       "\n",
       "    .dataframe tbody tr th {\n",
       "        vertical-align: top;\n",
       "    }\n",
       "\n",
       "    .dataframe thead th {\n",
       "        text-align: right;\n",
       "    }\n",
       "</style>\n",
       "<table border=\"1\" class=\"dataframe\">\n",
       "  <thead>\n",
       "    <tr style=\"text-align: right;\">\n",
       "      <th></th>\n",
       "      <th>ICorPM</th>\n",
       "      <th>Successful</th>\n",
       "    </tr>\n",
       "  </thead>\n",
       "  <tbody>\n",
       "    <tr>\n",
       "      <th>count</th>\n",
       "      <td>2631</td>\n",
       "      <td>2631</td>\n",
       "    </tr>\n",
       "    <tr>\n",
       "      <th>unique</th>\n",
       "      <td>2</td>\n",
       "      <td>2</td>\n",
       "    </tr>\n",
       "    <tr>\n",
       "      <th>top</th>\n",
       "      <td>False</td>\n",
       "      <td>True</td>\n",
       "    </tr>\n",
       "    <tr>\n",
       "      <th>freq</th>\n",
       "      <td>2374</td>\n",
       "      <td>2117</td>\n",
       "    </tr>\n",
       "  </tbody>\n",
       "</table>\n",
       "</div>"
      ],
      "text/plain": [
       "       ICorPM Successful\n",
       "count    2631       2631\n",
       "unique      2          2\n",
       "top     False       True\n",
       "freq     2374       2117"
      ]
     },
     "execution_count": 9,
     "metadata": {},
     "output_type": "execute_result"
    }
   ],
   "source": [
    "# Only using columns that I find relevant for the question I want to ask\n",
    "data = raw_data.filter(items=[\n",
    "    \"MainBranch\",\n",
    "    \"Employment\",\n",
    "    \"EdLevel\",\n",
    "    \"ICorPM\",\n",
    "    \"Country\",\n",
    "    \"ConvertedCompYearly\",\n",
    "    \"JobSat\"\n",
    "])\n",
    "\n",
    "# Filtering results for full time, employed developers in the US\n",
    "data[\"Country\"] = data[\"Country\"] == \"United States of America\"\n",
    "data[\"MainBranch\"] = data[\"MainBranch\"] == \"I am a developer by profession\"\n",
    "data[\"Employment\"] = data[\"Employment\"] == \"Employed, full-time\"\n",
    "data[\"ICorPM\"] = data[\"ICorPM\"].str.contains(\"manager\")\n",
    "\n",
    "# Removing NA values\n",
    "data.dropna(inplace=True, subset=[\n",
    "    \"MainBranch\",\n",
    "    \"Employment\",\n",
    "    \"EdLevel\",\n",
    "    \"ICorPM\",\n",
    "    \"Country\",\n",
    "    \"ConvertedCompYearly\",\n",
    "    \"JobSat\"\n",
    "])\n",
    "\n",
    "# Dollar amount is poverty line for a 4 person family\n",
    "data[\"Successful\"] = (data[\"JobSat\"] > 5) & (data[\"ConvertedCompYearly\"] > 32150)\n",
    "\n",
    "# https://stackoverflow.com/questions/17071871/how-do-i-select-rows-from-a-dataframe-based-on-column-values\n",
    "data = data.loc[data[\"Country\"] & data[\"MainBranch\"] & data[\"Employment\"]]\n",
    "data = data.filter(items=[\n",
    "#    \"EdLevel\",\n",
    "    \"ICorPM\",\n",
    "#    \"JobSat\"\n",
    "    \"Successful\"\n",
    "])\n",
    "\n",
    "data.dropna(inplace=True)\n",
    "\n",
    "data.describe()\n"
   ]
  },
  {
   "cell_type": "code",
   "execution_count": 10,
   "id": "7456d41c-9b8a-4f4f-b2dc-26e3d5b0acf6",
   "metadata": {},
   "outputs": [
    {
     "data": {
      "text/plain": [
       "ICorPM  Successful\n",
       "False   True          1902\n",
       "        False          472\n",
       "True    True           215\n",
       "        False           42\n",
       "Name: count, dtype: int64"
      ]
     },
     "execution_count": 10,
     "metadata": {},
     "output_type": "execute_result"
    }
   ],
   "source": [
    "data.value_counts()"
   ]
  },
  {
   "cell_type": "markdown",
   "id": "96d261e5-4cf0-477b-ac46-f78000a9ab0c",
   "metadata": {},
   "source": [
    "This once again shows that regardless of whether you are an individual contributor or a people manager, there is still roughly a 80% success ratio for software developers.  The ratio for people managers is admittedly slightly higher, at 83.6%, but I'd say that this is within the margin for error with this relatively small amount of people managers in this dataset.  It could also mean that there is a slight positive association between being a manager and being successful, which would also make sense."
   ]
  }
 ],
 "metadata": {
  "kernelspec": {
   "display_name": "Python 3 (ipykernel)",
   "language": "python",
   "name": "python3"
  },
  "language_info": {
   "codemirror_mode": {
    "name": "ipython",
    "version": 3
   },
   "file_extension": ".py",
   "mimetype": "text/x-python",
   "name": "python",
   "nbconvert_exporter": "python",
   "pygments_lexer": "ipython3",
   "version": "3.13.3"
  }
 },
 "nbformat": 4,
 "nbformat_minor": 5
}
